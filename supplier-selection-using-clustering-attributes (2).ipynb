{
 "cells": [
  {
   "cell_type": "code",
   "execution_count": 1,
   "id": "9705cc74",
   "metadata": {
    "_cell_guid": "b1076dfc-b9ad-4769-8c92-a6c4dae69d19",
    "_uuid": "8f2839f25d086af736a60e9eeb907d3b93b6e0e5",
    "execution": {
     "iopub.execute_input": "2024-09-06T09:50:21.889798Z",
     "iopub.status.busy": "2024-09-06T09:50:21.889384Z",
     "iopub.status.idle": "2024-09-06T09:50:23.971977Z",
     "shell.execute_reply": "2024-09-06T09:50:23.970572Z"
    },
    "papermill": {
     "duration": 2.096147,
     "end_time": "2024-09-06T09:50:23.974348",
     "exception": false,
     "start_time": "2024-09-06T09:50:21.878201",
     "status": "completed"
    },
    "tags": []
   },
   "outputs": [
    {
     "name": "stdout",
     "output_type": "stream",
     "text": [
      "/kaggle/input/suppliers/suppliers.xlsx\n"
     ]
    }
   ],
   "source": [
    "# This Python 3 environment comes with many helpful analytics libraries installed\n",
    "# It is defined by the kaggle/python Docker image: https://github.com/kaggle/docker-python\n",
    "# For example, here's several helpful packages to load\n",
    "\n",
    "import numpy as np # linear algebra\n",
    "import pandas as pd # data processing, CSV file I/O (e.g. pd.read_csv)\n",
    "import seaborn as sns\n",
    "import matplotlib.pyplot as plt\n",
    "import warnings\n",
    "warnings.filterwarnings('ignore')\n",
    "\n",
    "# Input data files are available in the read-only \"../input/\" directory\n",
    "# For example, running this (by clicking run or pressing Shift+Enter) will list all files under the input directory\n",
    "\n",
    "import os\n",
    "for dirname, _, filenames in os.walk('/kaggle/input'):\n",
    "    for filename in filenames:\n",
    "        print(os.path.join(dirname, filename))\n",
    "\n",
    "# You can write up to 20GB to the current directory (/kaggle/working/) that gets preserved as output when you create a version using \"Save & Run All\" \n",
    "# You can also write temporary files to /kaggle/temp/, but they won't be saved outside of the current session"
   ]
  },
  {
   "cell_type": "code",
   "execution_count": 2,
   "id": "1378c082",
   "metadata": {
    "execution": {
     "iopub.execute_input": "2024-09-06T09:50:23.994654Z",
     "iopub.status.busy": "2024-09-06T09:50:23.994068Z",
     "iopub.status.idle": "2024-09-06T09:50:24.404974Z",
     "shell.execute_reply": "2024-09-06T09:50:24.403862Z"
    },
    "papermill": {
     "duration": 0.423848,
     "end_time": "2024-09-06T09:50:24.407580",
     "exception": false,
     "start_time": "2024-09-06T09:50:23.983732",
     "status": "completed"
    },
    "tags": []
   },
   "outputs": [],
   "source": [
    "df = pd.read_excel('/kaggle/input/suppliers/suppliers.xlsx')"
   ]
  },
  {
   "cell_type": "code",
   "execution_count": 3,
   "id": "cde2932f",
   "metadata": {
    "execution": {
     "iopub.execute_input": "2024-09-06T09:50:24.428746Z",
     "iopub.status.busy": "2024-09-06T09:50:24.427742Z",
     "iopub.status.idle": "2024-09-06T09:50:24.451623Z",
     "shell.execute_reply": "2024-09-06T09:50:24.450636Z"
    },
    "papermill": {
     "duration": 0.036834,
     "end_time": "2024-09-06T09:50:24.453976",
     "exception": false,
     "start_time": "2024-09-06T09:50:24.417142",
     "status": "completed"
    },
    "tags": []
   },
   "outputs": [
    {
     "data": {
      "text/html": [
       "<div>\n",
       "<style scoped>\n",
       "    .dataframe tbody tr th:only-of-type {\n",
       "        vertical-align: middle;\n",
       "    }\n",
       "\n",
       "    .dataframe tbody tr th {\n",
       "        vertical-align: top;\n",
       "    }\n",
       "\n",
       "    .dataframe thead th {\n",
       "        text-align: right;\n",
       "    }\n",
       "</style>\n",
       "<table border=\"1\" class=\"dataframe\">\n",
       "  <thead>\n",
       "    <tr style=\"text-align: right;\">\n",
       "      <th></th>\n",
       "      <th>Number</th>\n",
       "      <th>Supplier Code</th>\n",
       "      <th>Supplier Name</th>\n",
       "      <th>Business Area</th>\n",
       "      <th>Cost/Price</th>\n",
       "      <th>Srvice_Cooperation</th>\n",
       "      <th>Conforming_Service</th>\n",
       "      <th>Flexibility</th>\n",
       "      <th>After_sale_service</th>\n",
       "      <th>Complaint_Management</th>\n",
       "      <th>Waiting_Time</th>\n",
       "    </tr>\n",
       "  </thead>\n",
       "  <tbody>\n",
       "    <tr>\n",
       "      <th>0</th>\n",
       "      <td>1</td>\n",
       "      <td>V00005</td>\n",
       "      <td>نیان الکترونیک</td>\n",
       "      <td>Electrical Equipments</td>\n",
       "      <td>9157000</td>\n",
       "      <td>80</td>\n",
       "      <td>100</td>\n",
       "      <td>0</td>\n",
       "      <td>60</td>\n",
       "      <td>60</td>\n",
       "      <td>100</td>\n",
       "    </tr>\n",
       "    <tr>\n",
       "      <th>1</th>\n",
       "      <td>2</td>\n",
       "      <td>V00013</td>\n",
       "      <td>نکو نیرو توان (نکا نوین)</td>\n",
       "      <td>Electrical Equipments</td>\n",
       "      <td>5731000</td>\n",
       "      <td>40</td>\n",
       "      <td>80</td>\n",
       "      <td>80</td>\n",
       "      <td>80</td>\n",
       "      <td>80</td>\n",
       "      <td>80</td>\n",
       "    </tr>\n",
       "    <tr>\n",
       "      <th>2</th>\n",
       "      <td>3</td>\n",
       "      <td>V00014</td>\n",
       "      <td>ماشین سنگین آریا</td>\n",
       "      <td>Electrical Generators</td>\n",
       "      <td>194929000</td>\n",
       "      <td>40</td>\n",
       "      <td>80</td>\n",
       "      <td>80</td>\n",
       "      <td>80</td>\n",
       "      <td>80</td>\n",
       "      <td>60</td>\n",
       "    </tr>\n",
       "    <tr>\n",
       "      <th>3</th>\n",
       "      <td>4</td>\n",
       "      <td>V00016</td>\n",
       "      <td>شرکت فرصت موج گستر</td>\n",
       "      <td>Electrical Tools</td>\n",
       "      <td>20464000</td>\n",
       "      <td>80</td>\n",
       "      <td>60</td>\n",
       "      <td>40</td>\n",
       "      <td>80</td>\n",
       "      <td>80</td>\n",
       "      <td>60</td>\n",
       "    </tr>\n",
       "    <tr>\n",
       "      <th>4</th>\n",
       "      <td>5</td>\n",
       "      <td>V00021</td>\n",
       "      <td>اسپارک ماشین تول (فتح ایران)</td>\n",
       "      <td>Construction Installations</td>\n",
       "      <td>10442000</td>\n",
       "      <td>40</td>\n",
       "      <td>60</td>\n",
       "      <td>100</td>\n",
       "      <td>60</td>\n",
       "      <td>60</td>\n",
       "      <td>80</td>\n",
       "    </tr>\n",
       "  </tbody>\n",
       "</table>\n",
       "</div>"
      ],
      "text/plain": [
       "   Number Supplier Code                Supplier Name   \\\n",
       "0       1        V00005                نیان الکترونیک   \n",
       "1       2        V00013      نکو نیرو توان (نکا نوین)   \n",
       "2       3        V00014              ماشین سنگین آریا   \n",
       "3       4        V00016            شرکت فرصت موج گستر   \n",
       "4       5        V00021  اسپارک ماشین تول (فتح ایران)   \n",
       "\n",
       "                Business Area  Cost/Price  Srvice_Cooperation  \\\n",
       "0       Electrical Equipments     9157000                  80   \n",
       "1       Electrical Equipments     5731000                  40   \n",
       "2       Electrical Generators   194929000                  40   \n",
       "3            Electrical Tools    20464000                  80   \n",
       "4  Construction Installations    10442000                  40   \n",
       "\n",
       "   Conforming_Service  Flexibility  After_sale_service  Complaint_Management  \\\n",
       "0                 100            0                  60                    60   \n",
       "1                  80           80                  80                    80   \n",
       "2                  80           80                  80                    80   \n",
       "3                  60           40                  80                    80   \n",
       "4                  60          100                  60                    60   \n",
       "\n",
       "   Waiting_Time  \n",
       "0           100  \n",
       "1            80  \n",
       "2            60  \n",
       "3            60  \n",
       "4            80  "
      ]
     },
     "execution_count": 3,
     "metadata": {},
     "output_type": "execute_result"
    }
   ],
   "source": [
    "df.head()"
   ]
  },
  {
   "cell_type": "code",
   "execution_count": 4,
   "id": "4a48535d",
   "metadata": {
    "execution": {
     "iopub.execute_input": "2024-09-06T09:50:24.474853Z",
     "iopub.status.busy": "2024-09-06T09:50:24.473871Z",
     "iopub.status.idle": "2024-09-06T09:50:24.480828Z",
     "shell.execute_reply": "2024-09-06T09:50:24.479857Z"
    },
    "papermill": {
     "duration": 0.020002,
     "end_time": "2024-09-06T09:50:24.483362",
     "exception": false,
     "start_time": "2024-09-06T09:50:24.463360",
     "status": "completed"
    },
    "tags": []
   },
   "outputs": [
    {
     "data": {
      "text/plain": [
       "(472, 11)"
      ]
     },
     "execution_count": 4,
     "metadata": {},
     "output_type": "execute_result"
    }
   ],
   "source": [
    "df.shape"
   ]
  },
  {
   "cell_type": "code",
   "execution_count": 5,
   "id": "738815f0",
   "metadata": {
    "execution": {
     "iopub.execute_input": "2024-09-06T09:50:24.504518Z",
     "iopub.status.busy": "2024-09-06T09:50:24.503633Z",
     "iopub.status.idle": "2024-09-06T09:50:24.527568Z",
     "shell.execute_reply": "2024-09-06T09:50:24.526415Z"
    },
    "papermill": {
     "duration": 0.037016,
     "end_time": "2024-09-06T09:50:24.529763",
     "exception": false,
     "start_time": "2024-09-06T09:50:24.492747",
     "status": "completed"
    },
    "tags": []
   },
   "outputs": [
    {
     "name": "stdout",
     "output_type": "stream",
     "text": [
      "<class 'pandas.core.frame.DataFrame'>\n",
      "RangeIndex: 472 entries, 0 to 471\n",
      "Data columns (total 11 columns):\n",
      " #   Column                Non-Null Count  Dtype \n",
      "---  ------                --------------  ----- \n",
      " 0   Number                472 non-null    int64 \n",
      " 1   Supplier Code         472 non-null    object\n",
      " 2   Supplier Name         472 non-null    object\n",
      " 3   Business Area         472 non-null    object\n",
      " 4   Cost/Price            472 non-null    int64 \n",
      " 5   Srvice_Cooperation    472 non-null    int64 \n",
      " 6   Conforming_Service    472 non-null    int64 \n",
      " 7   Flexibility           472 non-null    int64 \n",
      " 8   After_sale_service    472 non-null    int64 \n",
      " 9   Complaint_Management  472 non-null    int64 \n",
      " 10  Waiting_Time          472 non-null    int64 \n",
      "dtypes: int64(8), object(3)\n",
      "memory usage: 40.7+ KB\n"
     ]
    }
   ],
   "source": [
    "df.info()"
   ]
  },
  {
   "cell_type": "markdown",
   "id": "30b6594b",
   "metadata": {
    "papermill": {
     "duration": 0.009492,
     "end_time": "2024-09-06T09:50:24.548951",
     "exception": false,
     "start_time": "2024-09-06T09:50:24.539459",
     "status": "completed"
    },
    "tags": []
   },
   "source": [
    "**Header details**"
   ]
  },
  {
   "cell_type": "markdown",
   "id": "92801e01",
   "metadata": {
    "papermill": {
     "duration": 0.009119,
     "end_time": "2024-09-06T09:50:24.567488",
     "exception": false,
     "start_time": "2024-09-06T09:50:24.558369",
     "status": "completed"
    },
    "tags": []
   },
   "source": [
    " \n",
    "C1\tFinancial Elements (Price/\n",
    "Cost)\tFinancial elements such as the price of the product, the cost of the maintenance, transportation costs, etc. are one of the discriminant factors for selecting the supplier\tMinimum\n",
    "\n",
    "C2\tService cooperation\tCooperating with the terms and conditions\tMaximum\n",
    "\n",
    "C3\tConforming service\tAchieving quality perception\tMaximum\n",
    "\n",
    "C4\tFlexibility\tSupplier’s flexibility concerning multiple elements such as costs, time,\tMaximum\n",
    "\n",
    "C5\tAfter sale services\tReceiving the guarantee / warranty services in the future\tMaximum\n",
    "\n",
    "C6\tComplaint management\tNumber of complaints regarding the supplier \tMinimum\n",
    "\n",
    "C7\tWaiting Time\tWating time for the product \tMinimum\n"
   ]
  },
  {
   "cell_type": "markdown",
   "id": "f6fe2d92",
   "metadata": {
    "papermill": {
     "duration": 0.009247,
     "end_time": "2024-09-06T09:50:24.586109",
     "exception": false,
     "start_time": "2024-09-06T09:50:24.576862",
     "status": "completed"
    },
    "tags": []
   },
   "source": [
    "All the other variables rated on the following scale based on database values\n",
    "Very Poor = 0\n",
    "Poor = 40\n",
    "Moderate = 60 \n",
    "Good = 80 \n",
    "Very Good = 100\n"
   ]
  },
  {
   "cell_type": "code",
   "execution_count": 6,
   "id": "c2202df1",
   "metadata": {
    "execution": {
     "iopub.execute_input": "2024-09-06T09:50:24.607191Z",
     "iopub.status.busy": "2024-09-06T09:50:24.606230Z",
     "iopub.status.idle": "2024-09-06T09:50:24.615563Z",
     "shell.execute_reply": "2024-09-06T09:50:24.614368Z"
    },
    "papermill": {
     "duration": 0.022543,
     "end_time": "2024-09-06T09:50:24.618002",
     "exception": false,
     "start_time": "2024-09-06T09:50:24.595459",
     "status": "completed"
    },
    "tags": []
   },
   "outputs": [
    {
     "data": {
      "text/plain": [
       "Number                  0\n",
       "Supplier Code           0\n",
       "Supplier Name           0\n",
       "Business Area           0\n",
       "Cost/Price              0\n",
       "Srvice_Cooperation      0\n",
       "Conforming_Service      0\n",
       "Flexibility             0\n",
       "After_sale_service      0\n",
       "Complaint_Management    0\n",
       "Waiting_Time            0\n",
       "dtype: int64"
      ]
     },
     "execution_count": 6,
     "metadata": {},
     "output_type": "execute_result"
    }
   ],
   "source": [
    "df.isnull().sum()"
   ]
  },
  {
   "cell_type": "code",
   "execution_count": 7,
   "id": "3f9ece7e",
   "metadata": {
    "execution": {
     "iopub.execute_input": "2024-09-06T09:50:24.639758Z",
     "iopub.status.busy": "2024-09-06T09:50:24.638713Z",
     "iopub.status.idle": "2024-09-06T09:50:24.674552Z",
     "shell.execute_reply": "2024-09-06T09:50:24.673275Z"
    },
    "papermill": {
     "duration": 0.049281,
     "end_time": "2024-09-06T09:50:24.676914",
     "exception": false,
     "start_time": "2024-09-06T09:50:24.627633",
     "status": "completed"
    },
    "tags": []
   },
   "outputs": [
    {
     "data": {
      "text/html": [
       "<div>\n",
       "<style scoped>\n",
       "    .dataframe tbody tr th:only-of-type {\n",
       "        vertical-align: middle;\n",
       "    }\n",
       "\n",
       "    .dataframe tbody tr th {\n",
       "        vertical-align: top;\n",
       "    }\n",
       "\n",
       "    .dataframe thead th {\n",
       "        text-align: right;\n",
       "    }\n",
       "</style>\n",
       "<table border=\"1\" class=\"dataframe\">\n",
       "  <thead>\n",
       "    <tr style=\"text-align: right;\">\n",
       "      <th></th>\n",
       "      <th>Number</th>\n",
       "      <th>Cost/Price</th>\n",
       "      <th>Srvice_Cooperation</th>\n",
       "      <th>Conforming_Service</th>\n",
       "      <th>Flexibility</th>\n",
       "      <th>After_sale_service</th>\n",
       "      <th>Complaint_Management</th>\n",
       "      <th>Waiting_Time</th>\n",
       "    </tr>\n",
       "  </thead>\n",
       "  <tbody>\n",
       "    <tr>\n",
       "      <th>count</th>\n",
       "      <td>472.000000</td>\n",
       "      <td>4.720000e+02</td>\n",
       "      <td>472.000000</td>\n",
       "      <td>472.000000</td>\n",
       "      <td>472.000000</td>\n",
       "      <td>472.000000</td>\n",
       "      <td>472.000000</td>\n",
       "      <td>472.000000</td>\n",
       "    </tr>\n",
       "    <tr>\n",
       "      <th>mean</th>\n",
       "      <td>263.572034</td>\n",
       "      <td>4.277402e+07</td>\n",
       "      <td>63.728814</td>\n",
       "      <td>69.025424</td>\n",
       "      <td>69.025424</td>\n",
       "      <td>68.220339</td>\n",
       "      <td>69.279661</td>\n",
       "      <td>75.762712</td>\n",
       "    </tr>\n",
       "    <tr>\n",
       "      <th>std</th>\n",
       "      <td>157.567049</td>\n",
       "      <td>5.414349e+07</td>\n",
       "      <td>19.496708</td>\n",
       "      <td>17.014525</td>\n",
       "      <td>15.499585</td>\n",
       "      <td>16.491977</td>\n",
       "      <td>15.403634</td>\n",
       "      <td>14.241280</td>\n",
       "    </tr>\n",
       "    <tr>\n",
       "      <th>min</th>\n",
       "      <td>1.000000</td>\n",
       "      <td>5.300000e+04</td>\n",
       "      <td>0.000000</td>\n",
       "      <td>0.000000</td>\n",
       "      <td>0.000000</td>\n",
       "      <td>0.000000</td>\n",
       "      <td>0.000000</td>\n",
       "      <td>40.000000</td>\n",
       "    </tr>\n",
       "    <tr>\n",
       "      <th>25%</th>\n",
       "      <td>127.750000</td>\n",
       "      <td>9.223000e+06</td>\n",
       "      <td>60.000000</td>\n",
       "      <td>60.000000</td>\n",
       "      <td>60.000000</td>\n",
       "      <td>60.000000</td>\n",
       "      <td>60.000000</td>\n",
       "      <td>80.000000</td>\n",
       "    </tr>\n",
       "    <tr>\n",
       "      <th>50%</th>\n",
       "      <td>261.500000</td>\n",
       "      <td>2.650250e+07</td>\n",
       "      <td>60.000000</td>\n",
       "      <td>80.000000</td>\n",
       "      <td>80.000000</td>\n",
       "      <td>80.000000</td>\n",
       "      <td>80.000000</td>\n",
       "      <td>80.000000</td>\n",
       "    </tr>\n",
       "    <tr>\n",
       "      <th>75%</th>\n",
       "      <td>395.250000</td>\n",
       "      <td>5.552600e+07</td>\n",
       "      <td>80.000000</td>\n",
       "      <td>80.000000</td>\n",
       "      <td>80.000000</td>\n",
       "      <td>80.000000</td>\n",
       "      <td>80.000000</td>\n",
       "      <td>80.000000</td>\n",
       "    </tr>\n",
       "    <tr>\n",
       "      <th>max</th>\n",
       "      <td>548.000000</td>\n",
       "      <td>4.920000e+08</td>\n",
       "      <td>100.000000</td>\n",
       "      <td>100.000000</td>\n",
       "      <td>100.000000</td>\n",
       "      <td>100.000000</td>\n",
       "      <td>100.000000</td>\n",
       "      <td>100.000000</td>\n",
       "    </tr>\n",
       "  </tbody>\n",
       "</table>\n",
       "</div>"
      ],
      "text/plain": [
       "           Number    Cost/Price  Srvice_Cooperation  Conforming_Service  \\\n",
       "count  472.000000  4.720000e+02          472.000000          472.000000   \n",
       "mean   263.572034  4.277402e+07           63.728814           69.025424   \n",
       "std    157.567049  5.414349e+07           19.496708           17.014525   \n",
       "min      1.000000  5.300000e+04            0.000000            0.000000   \n",
       "25%    127.750000  9.223000e+06           60.000000           60.000000   \n",
       "50%    261.500000  2.650250e+07           60.000000           80.000000   \n",
       "75%    395.250000  5.552600e+07           80.000000           80.000000   \n",
       "max    548.000000  4.920000e+08          100.000000          100.000000   \n",
       "\n",
       "       Flexibility  After_sale_service  Complaint_Management  Waiting_Time  \n",
       "count   472.000000          472.000000            472.000000    472.000000  \n",
       "mean     69.025424           68.220339             69.279661     75.762712  \n",
       "std      15.499585           16.491977             15.403634     14.241280  \n",
       "min       0.000000            0.000000              0.000000     40.000000  \n",
       "25%      60.000000           60.000000             60.000000     80.000000  \n",
       "50%      80.000000           80.000000             80.000000     80.000000  \n",
       "75%      80.000000           80.000000             80.000000     80.000000  \n",
       "max     100.000000          100.000000            100.000000    100.000000  "
      ]
     },
     "execution_count": 7,
     "metadata": {},
     "output_type": "execute_result"
    }
   ],
   "source": [
    "df.describe()"
   ]
  },
  {
   "cell_type": "code",
   "execution_count": 8,
   "id": "79186031",
   "metadata": {
    "execution": {
     "iopub.execute_input": "2024-09-06T09:50:24.699065Z",
     "iopub.status.busy": "2024-09-06T09:50:24.698618Z",
     "iopub.status.idle": "2024-09-06T09:50:24.705969Z",
     "shell.execute_reply": "2024-09-06T09:50:24.704833Z"
    },
    "papermill": {
     "duration": 0.02096,
     "end_time": "2024-09-06T09:50:24.708303",
     "exception": false,
     "start_time": "2024-09-06T09:50:24.687343",
     "status": "completed"
    },
    "tags": []
   },
   "outputs": [
    {
     "data": {
      "text/plain": [
       "Index(['Number', 'Supplier Code', 'Supplier Name ', 'Business Area',\n",
       "       'Cost/Price', 'Srvice_Cooperation', 'Conforming_Service', 'Flexibility',\n",
       "       'After_sale_service', 'Complaint_Management', 'Waiting_Time'],\n",
       "      dtype='object')"
      ]
     },
     "execution_count": 8,
     "metadata": {},
     "output_type": "execute_result"
    }
   ],
   "source": [
    "df.columns"
   ]
  },
  {
   "cell_type": "code",
   "execution_count": 9,
   "id": "cc6529c1",
   "metadata": {
    "execution": {
     "iopub.execute_input": "2024-09-06T09:50:24.730534Z",
     "iopub.status.busy": "2024-09-06T09:50:24.730138Z",
     "iopub.status.idle": "2024-09-06T09:50:24.736598Z",
     "shell.execute_reply": "2024-09-06T09:50:24.735409Z"
    },
    "papermill": {
     "duration": 0.02036,
     "end_time": "2024-09-06T09:50:24.738843",
     "exception": false,
     "start_time": "2024-09-06T09:50:24.718483",
     "status": "completed"
    },
    "tags": []
   },
   "outputs": [],
   "source": [
    "selected_columns_df = df[['Cost/Price', 'Srvice_Cooperation', 'Conforming_Service', 'Flexibility',\n",
    "       'After_sale_service', 'Complaint_Management', 'Waiting_Time']]"
   ]
  },
  {
   "cell_type": "code",
   "execution_count": 10,
   "id": "234ced63",
   "metadata": {
    "execution": {
     "iopub.execute_input": "2024-09-06T09:50:24.760760Z",
     "iopub.status.busy": "2024-09-06T09:50:24.760340Z",
     "iopub.status.idle": "2024-09-06T09:50:24.774934Z",
     "shell.execute_reply": "2024-09-06T09:50:24.773765Z"
    },
    "papermill": {
     "duration": 0.028294,
     "end_time": "2024-09-06T09:50:24.777169",
     "exception": false,
     "start_time": "2024-09-06T09:50:24.748875",
     "status": "completed"
    },
    "tags": []
   },
   "outputs": [
    {
     "data": {
      "text/html": [
       "<div>\n",
       "<style scoped>\n",
       "    .dataframe tbody tr th:only-of-type {\n",
       "        vertical-align: middle;\n",
       "    }\n",
       "\n",
       "    .dataframe tbody tr th {\n",
       "        vertical-align: top;\n",
       "    }\n",
       "\n",
       "    .dataframe thead th {\n",
       "        text-align: right;\n",
       "    }\n",
       "</style>\n",
       "<table border=\"1\" class=\"dataframe\">\n",
       "  <thead>\n",
       "    <tr style=\"text-align: right;\">\n",
       "      <th></th>\n",
       "      <th>Cost/Price</th>\n",
       "      <th>Srvice_Cooperation</th>\n",
       "      <th>Conforming_Service</th>\n",
       "      <th>Flexibility</th>\n",
       "      <th>After_sale_service</th>\n",
       "      <th>Complaint_Management</th>\n",
       "      <th>Waiting_Time</th>\n",
       "    </tr>\n",
       "  </thead>\n",
       "  <tbody>\n",
       "    <tr>\n",
       "      <th>0</th>\n",
       "      <td>9157000</td>\n",
       "      <td>80</td>\n",
       "      <td>100</td>\n",
       "      <td>0</td>\n",
       "      <td>60</td>\n",
       "      <td>60</td>\n",
       "      <td>100</td>\n",
       "    </tr>\n",
       "    <tr>\n",
       "      <th>1</th>\n",
       "      <td>5731000</td>\n",
       "      <td>40</td>\n",
       "      <td>80</td>\n",
       "      <td>80</td>\n",
       "      <td>80</td>\n",
       "      <td>80</td>\n",
       "      <td>80</td>\n",
       "    </tr>\n",
       "    <tr>\n",
       "      <th>2</th>\n",
       "      <td>194929000</td>\n",
       "      <td>40</td>\n",
       "      <td>80</td>\n",
       "      <td>80</td>\n",
       "      <td>80</td>\n",
       "      <td>80</td>\n",
       "      <td>60</td>\n",
       "    </tr>\n",
       "    <tr>\n",
       "      <th>3</th>\n",
       "      <td>20464000</td>\n",
       "      <td>80</td>\n",
       "      <td>60</td>\n",
       "      <td>40</td>\n",
       "      <td>80</td>\n",
       "      <td>80</td>\n",
       "      <td>60</td>\n",
       "    </tr>\n",
       "    <tr>\n",
       "      <th>4</th>\n",
       "      <td>10442000</td>\n",
       "      <td>40</td>\n",
       "      <td>60</td>\n",
       "      <td>100</td>\n",
       "      <td>60</td>\n",
       "      <td>60</td>\n",
       "      <td>80</td>\n",
       "    </tr>\n",
       "    <tr>\n",
       "      <th>...</th>\n",
       "      <td>...</td>\n",
       "      <td>...</td>\n",
       "      <td>...</td>\n",
       "      <td>...</td>\n",
       "      <td>...</td>\n",
       "      <td>...</td>\n",
       "      <td>...</td>\n",
       "    </tr>\n",
       "    <tr>\n",
       "      <th>467</th>\n",
       "      <td>83135000</td>\n",
       "      <td>60</td>\n",
       "      <td>80</td>\n",
       "      <td>80</td>\n",
       "      <td>80</td>\n",
       "      <td>80</td>\n",
       "      <td>80</td>\n",
       "    </tr>\n",
       "    <tr>\n",
       "      <th>468</th>\n",
       "      <td>50687000</td>\n",
       "      <td>40</td>\n",
       "      <td>60</td>\n",
       "      <td>60</td>\n",
       "      <td>60</td>\n",
       "      <td>60</td>\n",
       "      <td>80</td>\n",
       "    </tr>\n",
       "    <tr>\n",
       "      <th>469</th>\n",
       "      <td>66865000</td>\n",
       "      <td>60</td>\n",
       "      <td>80</td>\n",
       "      <td>80</td>\n",
       "      <td>80</td>\n",
       "      <td>80</td>\n",
       "      <td>80</td>\n",
       "    </tr>\n",
       "    <tr>\n",
       "      <th>470</th>\n",
       "      <td>53640000</td>\n",
       "      <td>100</td>\n",
       "      <td>60</td>\n",
       "      <td>80</td>\n",
       "      <td>60</td>\n",
       "      <td>60</td>\n",
       "      <td>40</td>\n",
       "    </tr>\n",
       "    <tr>\n",
       "      <th>471</th>\n",
       "      <td>69139000</td>\n",
       "      <td>80</td>\n",
       "      <td>40</td>\n",
       "      <td>60</td>\n",
       "      <td>60</td>\n",
       "      <td>60</td>\n",
       "      <td>60</td>\n",
       "    </tr>\n",
       "  </tbody>\n",
       "</table>\n",
       "<p>472 rows × 7 columns</p>\n",
       "</div>"
      ],
      "text/plain": [
       "     Cost/Price  Srvice_Cooperation  Conforming_Service  Flexibility  \\\n",
       "0       9157000                  80                 100            0   \n",
       "1       5731000                  40                  80           80   \n",
       "2     194929000                  40                  80           80   \n",
       "3      20464000                  80                  60           40   \n",
       "4      10442000                  40                  60          100   \n",
       "..          ...                 ...                 ...          ...   \n",
       "467    83135000                  60                  80           80   \n",
       "468    50687000                  40                  60           60   \n",
       "469    66865000                  60                  80           80   \n",
       "470    53640000                 100                  60           80   \n",
       "471    69139000                  80                  40           60   \n",
       "\n",
       "     After_sale_service  Complaint_Management  Waiting_Time  \n",
       "0                    60                    60           100  \n",
       "1                    80                    80            80  \n",
       "2                    80                    80            60  \n",
       "3                    80                    80            60  \n",
       "4                    60                    60            80  \n",
       "..                  ...                   ...           ...  \n",
       "467                  80                    80            80  \n",
       "468                  60                    60            80  \n",
       "469                  80                    80            80  \n",
       "470                  60                    60            40  \n",
       "471                  60                    60            60  \n",
       "\n",
       "[472 rows x 7 columns]"
      ]
     },
     "execution_count": 10,
     "metadata": {},
     "output_type": "execute_result"
    }
   ],
   "source": [
    "# filtered the numerical features\n",
    "selected_columns_df"
   ]
  },
  {
   "cell_type": "markdown",
   "id": "27385ef4",
   "metadata": {
    "papermill": {
     "duration": 0.01005,
     "end_time": "2024-09-06T09:50:24.797457",
     "exception": false,
     "start_time": "2024-09-06T09:50:24.787407",
     "status": "completed"
    },
    "tags": []
   },
   "source": [
    "Now, we need to standardize it"
   ]
  },
  {
   "cell_type": "code",
   "execution_count": 11,
   "id": "819369b3",
   "metadata": {
    "execution": {
     "iopub.execute_input": "2024-09-06T09:50:24.819712Z",
     "iopub.status.busy": "2024-09-06T09:50:24.819294Z",
     "iopub.status.idle": "2024-09-06T09:50:24.989257Z",
     "shell.execute_reply": "2024-09-06T09:50:24.988189Z"
    },
    "papermill": {
     "duration": 0.18425,
     "end_time": "2024-09-06T09:50:24.991912",
     "exception": false,
     "start_time": "2024-09-06T09:50:24.807662",
     "status": "completed"
    },
    "tags": []
   },
   "outputs": [],
   "source": [
    "from sklearn import preprocessing\n",
    "#Scale the data to suppress the effect of variables with higher scale / variables in different units\n",
    "scaler = preprocessing.StandardScaler().fit(selected_columns_df)\n",
    "scaled_df = pd.DataFrame(scaler.fit_transform(selected_columns_df),columns=selected_columns_df.columns, index=selected_columns_df.index)\n"
   ]
  },
  {
   "cell_type": "code",
   "execution_count": 12,
   "id": "4f9cb716",
   "metadata": {
    "execution": {
     "iopub.execute_input": "2024-09-06T09:50:25.014127Z",
     "iopub.status.busy": "2024-09-06T09:50:25.013699Z",
     "iopub.status.idle": "2024-09-06T09:50:25.030122Z",
     "shell.execute_reply": "2024-09-06T09:50:25.029033Z"
    },
    "papermill": {
     "duration": 0.030203,
     "end_time": "2024-09-06T09:50:25.032448",
     "exception": false,
     "start_time": "2024-09-06T09:50:25.002245",
     "status": "completed"
    },
    "tags": []
   },
   "outputs": [
    {
     "data": {
      "text/html": [
       "<div>\n",
       "<style scoped>\n",
       "    .dataframe tbody tr th:only-of-type {\n",
       "        vertical-align: middle;\n",
       "    }\n",
       "\n",
       "    .dataframe tbody tr th {\n",
       "        vertical-align: top;\n",
       "    }\n",
       "\n",
       "    .dataframe thead th {\n",
       "        text-align: right;\n",
       "    }\n",
       "</style>\n",
       "<table border=\"1\" class=\"dataframe\">\n",
       "  <thead>\n",
       "    <tr style=\"text-align: right;\">\n",
       "      <th></th>\n",
       "      <th>Cost/Price</th>\n",
       "      <th>Srvice_Cooperation</th>\n",
       "      <th>Conforming_Service</th>\n",
       "      <th>Flexibility</th>\n",
       "      <th>After_sale_service</th>\n",
       "      <th>Complaint_Management</th>\n",
       "      <th>Waiting_Time</th>\n",
       "    </tr>\n",
       "  </thead>\n",
       "  <tbody>\n",
       "    <tr>\n",
       "      <th>0</th>\n",
       "      <td>-0.621546</td>\n",
       "      <td>0.835446</td>\n",
       "      <td>1.822410</td>\n",
       "      <td>-4.458097</td>\n",
       "      <td>-0.498974</td>\n",
       "      <td>-0.603072</td>\n",
       "      <td>1.703709</td>\n",
       "    </tr>\n",
       "    <tr>\n",
       "      <th>1</th>\n",
       "      <td>-0.684890</td>\n",
       "      <td>-1.218359</td>\n",
       "      <td>0.645697</td>\n",
       "      <td>0.708807</td>\n",
       "      <td>0.715024</td>\n",
       "      <td>0.696700</td>\n",
       "      <td>0.297851</td>\n",
       "    </tr>\n",
       "    <tr>\n",
       "      <th>2</th>\n",
       "      <td>2.813199</td>\n",
       "      <td>-1.218359</td>\n",
       "      <td>0.645697</td>\n",
       "      <td>0.708807</td>\n",
       "      <td>0.715024</td>\n",
       "      <td>0.696700</td>\n",
       "      <td>-1.108007</td>\n",
       "    </tr>\n",
       "    <tr>\n",
       "      <th>3</th>\n",
       "      <td>-0.412491</td>\n",
       "      <td>0.835446</td>\n",
       "      <td>-0.531017</td>\n",
       "      <td>-1.874645</td>\n",
       "      <td>0.715024</td>\n",
       "      <td>0.696700</td>\n",
       "      <td>-1.108007</td>\n",
       "    </tr>\n",
       "    <tr>\n",
       "      <th>4</th>\n",
       "      <td>-0.597788</td>\n",
       "      <td>-1.218359</td>\n",
       "      <td>-0.531017</td>\n",
       "      <td>2.000534</td>\n",
       "      <td>-0.498974</td>\n",
       "      <td>-0.603072</td>\n",
       "      <td>0.297851</td>\n",
       "    </tr>\n",
       "    <tr>\n",
       "      <th>...</th>\n",
       "      <td>...</td>\n",
       "      <td>...</td>\n",
       "      <td>...</td>\n",
       "      <td>...</td>\n",
       "      <td>...</td>\n",
       "      <td>...</td>\n",
       "      <td>...</td>\n",
       "    </tr>\n",
       "    <tr>\n",
       "      <th>467</th>\n",
       "      <td>0.746236</td>\n",
       "      <td>-0.191456</td>\n",
       "      <td>0.645697</td>\n",
       "      <td>0.708807</td>\n",
       "      <td>0.715024</td>\n",
       "      <td>0.696700</td>\n",
       "      <td>0.297851</td>\n",
       "    </tr>\n",
       "    <tr>\n",
       "      <th>468</th>\n",
       "      <td>0.146303</td>\n",
       "      <td>-1.218359</td>\n",
       "      <td>-0.531017</td>\n",
       "      <td>-0.582919</td>\n",
       "      <td>-0.498974</td>\n",
       "      <td>-0.603072</td>\n",
       "      <td>0.297851</td>\n",
       "    </tr>\n",
       "    <tr>\n",
       "      <th>469</th>\n",
       "      <td>0.445419</td>\n",
       "      <td>-0.191456</td>\n",
       "      <td>0.645697</td>\n",
       "      <td>0.708807</td>\n",
       "      <td>0.715024</td>\n",
       "      <td>0.696700</td>\n",
       "      <td>0.297851</td>\n",
       "    </tr>\n",
       "    <tr>\n",
       "      <th>470</th>\n",
       "      <td>0.200901</td>\n",
       "      <td>1.862349</td>\n",
       "      <td>-0.531017</td>\n",
       "      <td>0.708807</td>\n",
       "      <td>-0.498974</td>\n",
       "      <td>-0.603072</td>\n",
       "      <td>-2.513865</td>\n",
       "    </tr>\n",
       "    <tr>\n",
       "      <th>471</th>\n",
       "      <td>0.487463</td>\n",
       "      <td>0.835446</td>\n",
       "      <td>-1.707730</td>\n",
       "      <td>-0.582919</td>\n",
       "      <td>-0.498974</td>\n",
       "      <td>-0.603072</td>\n",
       "      <td>-1.108007</td>\n",
       "    </tr>\n",
       "  </tbody>\n",
       "</table>\n",
       "<p>472 rows × 7 columns</p>\n",
       "</div>"
      ],
      "text/plain": [
       "     Cost/Price  Srvice_Cooperation  Conforming_Service  Flexibility  \\\n",
       "0     -0.621546            0.835446            1.822410    -4.458097   \n",
       "1     -0.684890           -1.218359            0.645697     0.708807   \n",
       "2      2.813199           -1.218359            0.645697     0.708807   \n",
       "3     -0.412491            0.835446           -0.531017    -1.874645   \n",
       "4     -0.597788           -1.218359           -0.531017     2.000534   \n",
       "..          ...                 ...                 ...          ...   \n",
       "467    0.746236           -0.191456            0.645697     0.708807   \n",
       "468    0.146303           -1.218359           -0.531017    -0.582919   \n",
       "469    0.445419           -0.191456            0.645697     0.708807   \n",
       "470    0.200901            1.862349           -0.531017     0.708807   \n",
       "471    0.487463            0.835446           -1.707730    -0.582919   \n",
       "\n",
       "     After_sale_service  Complaint_Management  Waiting_Time  \n",
       "0             -0.498974             -0.603072      1.703709  \n",
       "1              0.715024              0.696700      0.297851  \n",
       "2              0.715024              0.696700     -1.108007  \n",
       "3              0.715024              0.696700     -1.108007  \n",
       "4             -0.498974             -0.603072      0.297851  \n",
       "..                  ...                   ...           ...  \n",
       "467            0.715024              0.696700      0.297851  \n",
       "468           -0.498974             -0.603072      0.297851  \n",
       "469            0.715024              0.696700      0.297851  \n",
       "470           -0.498974             -0.603072     -2.513865  \n",
       "471           -0.498974             -0.603072     -1.108007  \n",
       "\n",
       "[472 rows x 7 columns]"
      ]
     },
     "execution_count": 12,
     "metadata": {},
     "output_type": "execute_result"
    }
   ],
   "source": [
    "scaled_df"
   ]
  },
  {
   "cell_type": "markdown",
   "id": "6e84b936",
   "metadata": {
    "papermill": {
     "duration": 0.010316,
     "end_time": "2024-09-06T09:50:25.053737",
     "exception": false,
     "start_time": "2024-09-06T09:50:25.043421",
     "status": "completed"
    },
    "tags": []
   },
   "source": [
    "# Clustering"
   ]
  },
  {
   "cell_type": "code",
   "execution_count": 13,
   "id": "0c15911c",
   "metadata": {
    "execution": {
     "iopub.execute_input": "2024-09-06T09:50:25.076851Z",
     "iopub.status.busy": "2024-09-06T09:50:25.076450Z",
     "iopub.status.idle": "2024-09-06T09:50:25.450082Z",
     "shell.execute_reply": "2024-09-06T09:50:25.448918Z"
    },
    "papermill": {
     "duration": 0.388209,
     "end_time": "2024-09-06T09:50:25.452642",
     "exception": false,
     "start_time": "2024-09-06T09:50:25.064433",
     "status": "completed"
    },
    "tags": []
   },
   "outputs": [],
   "source": [
    "from sklearn.cluster import KMeans"
   ]
  },
  {
   "cell_type": "markdown",
   "id": "ddc5d817",
   "metadata": {
    "papermill": {
     "duration": 0.0107,
     "end_time": "2024-09-06T09:50:25.473993",
     "exception": false,
     "start_time": "2024-09-06T09:50:25.463293",
     "status": "completed"
    },
    "tags": []
   },
   "source": [
    "# Elbow Plot"
   ]
  },
  {
   "cell_type": "code",
   "execution_count": 14,
   "id": "8f0880c3",
   "metadata": {
    "execution": {
     "iopub.execute_input": "2024-09-06T09:50:25.496968Z",
     "iopub.status.busy": "2024-09-06T09:50:25.496536Z",
     "iopub.status.idle": "2024-09-06T09:50:25.980000Z",
     "shell.execute_reply": "2024-09-06T09:50:25.978976Z"
    },
    "papermill": {
     "duration": 0.497817,
     "end_time": "2024-09-06T09:50:25.982553",
     "exception": false,
     "start_time": "2024-09-06T09:50:25.484736",
     "status": "completed"
    },
    "tags": []
   },
   "outputs": [
    {
     "data": {
      "image/png": "[encoded data removed]",
      "text/plain": [
       "<Figure size 640x480 with 1 Axes>"
      ]
     },
     "metadata": {},
     "output_type": "display_data"
    }
   ],
   "source": [
    "inertial_values = [] #sum of squared distances to the nearest centroid\n",
    "k_values = range(2,11)\n",
    "\n",
    "for k in k_values:\n",
    "    kmeans = KMeans(n_clusters = k, random_state=42)\n",
    "    kmeans.fit(scaled_df)\n",
    "    inertial_values.append(kmeans.inertia_)\n",
    "\n",
    "#plotiing the elbow plot\n",
    "plt.plot(k_values, inertial_values, marker = 'o')\n",
    "plt.title('Elbow Plot')\n",
    "plt.xlabel('No of Clusters')\n",
    "plt.ylabel('Inertia')\n",
    "plt.show()"
   ]
  },
  {
   "cell_type": "markdown",
   "id": "a7be16f0",
   "metadata": {
    "papermill": {
     "duration": 0.010992,
     "end_time": "2024-09-06T09:50:26.005076",
     "exception": false,
     "start_time": "2024-09-06T09:50:25.994084",
     "status": "completed"
    },
    "tags": []
   },
   "source": [
    "# Silhouette Score"
   ]
  },
  {
   "cell_type": "code",
   "execution_count": 15,
   "id": "fe88f28c",
   "metadata": {
    "execution": {
     "iopub.execute_input": "2024-09-06T09:50:26.028977Z",
     "iopub.status.busy": "2024-09-06T09:50:26.028527Z",
     "iopub.status.idle": "2024-09-06T09:50:26.033570Z",
     "shell.execute_reply": "2024-09-06T09:50:26.032368Z"
    },
    "papermill": {
     "duration": 0.019545,
     "end_time": "2024-09-06T09:50:26.035711",
     "exception": false,
     "start_time": "2024-09-06T09:50:26.016166",
     "status": "completed"
    },
    "tags": []
   },
   "outputs": [],
   "source": [
    "from sklearn.metrics import silhouette_score"
   ]
  },
  {
   "cell_type": "code",
   "execution_count": 16,
   "id": "7c1b369f",
   "metadata": {
    "execution": {
     "iopub.execute_input": "2024-09-06T09:50:26.059370Z",
     "iopub.status.busy": "2024-09-06T09:50:26.058943Z",
     "iopub.status.idle": "2024-09-06T09:50:27.093022Z",
     "shell.execute_reply": "2024-09-06T09:50:27.091819Z"
    },
    "papermill": {
     "duration": 1.049445,
     "end_time": "2024-09-06T09:50:27.096179",
     "exception": false,
     "start_time": "2024-09-06T09:50:26.046734",
     "status": "completed"
    },
    "tags": []
   },
   "outputs": [
    {
     "name": "stdout",
     "output_type": "stream",
     "text": [
      "For K =  2 The Silhouette Score is  0.29686655889851044\n",
      "For K =  3 The Silhouette Score is  0.2549982340397343\n",
      "For K =  4 The Silhouette Score is  0.28581374113395525\n",
      "For K =  5 The Silhouette Score is  0.2826390905460541\n",
      "For K =  6 The Silhouette Score is  0.28615035713767134\n",
      "For K =  7 The Silhouette Score is  0.22674469239127762\n",
      "For K =  8 The Silhouette Score is  0.2338168206843646\n",
      "For K =  9 The Silhouette Score is  0.2398660910431641\n",
      "==========================================================\n",
      "The Optimal number of cluster is :  2\n"
     ]
    }
   ],
   "source": [
    "silhouette_scores = []\n",
    "k_values = range(2,10)\n",
    "\n",
    "for k in k_values:\n",
    "    kmeans = KMeans(n_clusters = k, random_state=42)\n",
    "    kmeans.fit(scaled_df)\n",
    "    labels = kmeans.labels_\n",
    "    silhouette_avg = silhouette_score(scaled_df, labels)\n",
    "    silhouette_scores.append(silhouette_avg)\n",
    "    print('For K = ', k , 'The Silhouette Score is ',silhouette_avg)\n",
    "    \n",
    "    optimal_k = k_values[silhouette_scores.index(max(silhouette_scores))]\n",
    "print('==========================================================')\n",
    "print('The Optimal number of cluster is : ',optimal_k)"
   ]
  },
  {
   "cell_type": "markdown",
   "id": "a3621fcd",
   "metadata": {
    "papermill": {
     "duration": 0.018266,
     "end_time": "2024-09-06T09:50:27.133529",
     "exception": false,
     "start_time": "2024-09-06T09:50:27.115263",
     "status": "completed"
    },
    "tags": []
   },
   "source": [
    "We should consider either K = 3 or 4, lets begin our analysis with K=3"
   ]
  },
  {
   "cell_type": "code",
   "execution_count": 17,
   "id": "407c6d38",
   "metadata": {
    "execution": {
     "iopub.execute_input": "2024-09-06T09:50:27.174660Z",
     "iopub.status.busy": "2024-09-06T09:50:27.173952Z",
     "iopub.status.idle": "2024-09-06T09:50:27.224469Z",
     "shell.execute_reply": "2024-09-06T09:50:27.223296Z"
    },
    "papermill": {
     "duration": 0.074704,
     "end_time": "2024-09-06T09:50:27.226771",
     "exception": false,
     "start_time": "2024-09-06T09:50:27.152067",
     "status": "completed"
    },
    "tags": []
   },
   "outputs": [
    {
     "data": {
      "text/html": [
       "<style>#sk-container-id-1 {color: black;background-color: white;}#sk-container-id-1 pre{padding: 0;}#sk-container-id-1 div.sk-toggleable {background-color: white;}#sk-container-id-1 label.sk-toggleable__label {cursor: pointer;display: block;width: 100%;margin-bottom: 0;padding: 0.3em;box-sizing: border-box;text-align: center;}#sk-container-id-1 label.sk-toggleable__label-arrow:before {content: \"▸\";float: left;margin-right: 0.25em;color: #696969;}#sk-container-id-1 label.sk-toggleable__label-arrow:hover:before {color: black;}#sk-container-id-1 div.sk-estimator:hover label.sk-toggleable__label-arrow:before {color: black;}#sk-container-id-1 div.sk-toggleable__content {max-height: 0;max-width: 0;overflow: hidden;text-align: left;background-color: #f0f8ff;}#sk-container-id-1 div.sk-toggleable__content pre {margin: 0.2em;color: black;border-radius: 0.25em;background-color: #f0f8ff;}#sk-container-id-1 input.sk-toggleable__control:checked~div.sk-toggleable__content {max-height: 200px;max-width: 100%;overflow: auto;}#sk-container-id-1 input.sk-toggleable__control:checked~label.sk-toggleable__label-arrow:before {content: \"▾\";}#sk-container-id-1 div.sk-estimator input.sk-toggleable__control:checked~label.sk-toggleable__label {background-color: #d4ebff;}#sk-container-id-1 div.sk-label input.sk-toggleable__control:checked~label.sk-toggleable__label {background-color: #d4ebff;}#sk-container-id-1 input.sk-hidden--visually {border: 0;clip: rect(1px 1px 1px 1px);clip: rect(1px, 1px, 1px, 1px);height: 1px;margin: -1px;overflow: hidden;padding: 0;position: absolute;width: 1px;}#sk-container-id-1 div.sk-estimator {font-family: monospace;background-color: #f0f8ff;border: 1px dotted black;border-radius: 0.25em;box-sizing: border-box;margin-bottom: 0.5em;}#sk-container-id-1 div.sk-estimator:hover {background-color: #d4ebff;}#sk-container-id-1 div.sk-parallel-item::after {content: \"\";width: 100%;border-bottom: 1px solid gray;flex-grow: 1;}#sk-container-id-1 div.sk-label:hover label.sk-toggleable__label {background-color: #d4ebff;}#sk-container-id-1 div.sk-serial::before {content: \"\";position: absolute;border-left: 1px solid gray;box-sizing: border-box;top: 0;bottom: 0;left: 50%;z-index: 0;}#sk-container-id-1 div.sk-serial {display: flex;flex-direction: column;align-items: center;background-color: white;padding-right: 0.2em;padding-left: 0.2em;position: relative;}#sk-container-id-1 div.sk-item {position: relative;z-index: 1;}#sk-container-id-1 div.sk-parallel {display: flex;align-items: stretch;justify-content: center;background-color: white;position: relative;}#sk-container-id-1 div.sk-item::before, #sk-container-id-1 div.sk-parallel-item::before {content: \"\";position: absolute;border-left: 1px solid gray;box-sizing: border-box;top: 0;bottom: 0;left: 50%;z-index: -1;}#sk-container-id-1 div.sk-parallel-item {display: flex;flex-direction: column;z-index: 1;position: relative;background-color: white;}#sk-container-id-1 div.sk-parallel-item:first-child::after {align-self: flex-end;width: 50%;}#sk-container-id-1 div.sk-parallel-item:last-child::after {align-self: flex-start;width: 50%;}#sk-container-id-1 div.sk-parallel-item:only-child::after {width: 0;}#sk-container-id-1 div.sk-dashed-wrapped {border: 1px dashed gray;margin: 0 0.4em 0.5em 0.4em;box-sizing: border-box;padding-bottom: 0.4em;background-color: white;}#sk-container-id-1 div.sk-label label {font-family: monospace;font-weight: bold;display: inline-block;line-height: 1.2em;}#sk-container-id-1 div.sk-label-container {text-align: center;}#sk-container-id-1 div.sk-container {/* jupyter's `normalize.less` sets `[hidden] { display: none; }` but bootstrap.min.css set `[hidden] { display: none !important; }` so we also need the `!important` here to be able to override the default hidden behavior on the sphinx rendered scikit-learn.org. See: https://github.com/scikit-learn/scikit-learn/issues/21755 */display: inline-block !important;position: relative;}#sk-container-id-1 div.sk-text-repr-fallback {display: none;}</style><div id=\"sk-container-id-1\" class=\"sk-top-container\"><div class=\"sk-text-repr-fallback\"><pre>KMeans(n_clusters=3, random_state=42)</pre><b>In a Jupyter environment, please rerun this cell to show the HTML representation or trust the notebook. <br />On GitHub, the HTML representation is unable to render, please try loading this page with nbviewer.org.</b></div><div class=\"sk-container\" hidden><div class=\"sk-item\"><div class=\"sk-estimator sk-toggleable\"><input class=\"sk-toggleable__control sk-hidden--visually\" id=\"sk-estimator-id-1\" type=\"checkbox\" checked><label for=\"sk-estimator-id-1\" class=\"sk-toggleable__label sk-toggleable__label-arrow\">KMeans</label><div class=\"sk-toggleable__content\"><pre>KMeans(n_clusters=3, random_state=42)</pre></div></div></div></div></div>"
      ],
      "text/plain": [
       "KMeans(n_clusters=3, random_state=42)"
      ]
     },
     "execution_count": 17,
     "metadata": {},
     "output_type": "execute_result"
    }
   ],
   "source": [
    "k = 3\n",
    "model = KMeans(n_clusters=k,random_state=42)\n",
    "model.fit(scaled_df)"
   ]
  },
  {
   "cell_type": "code",
   "execution_count": 18,
   "id": "89026a80",
   "metadata": {
    "execution": {
     "iopub.execute_input": "2024-09-06T09:50:27.252137Z",
     "iopub.status.busy": "2024-09-06T09:50:27.251122Z",
     "iopub.status.idle": "2024-09-06T09:50:27.256182Z",
     "shell.execute_reply": "2024-09-06T09:50:27.255065Z"
    },
    "papermill": {
     "duration": 0.019897,
     "end_time": "2024-09-06T09:50:27.258311",
     "exception": false,
     "start_time": "2024-09-06T09:50:27.238414",
     "status": "completed"
    },
    "tags": []
   },
   "outputs": [],
   "source": [
    "centroidk3 = model.cluster_centers_"
   ]
  },
  {
   "cell_type": "code",
   "execution_count": 19,
   "id": "f4c95169",
   "metadata": {
    "execution": {
     "iopub.execute_input": "2024-09-06T09:50:27.284231Z",
     "iopub.status.busy": "2024-09-06T09:50:27.283129Z",
     "iopub.status.idle": "2024-09-06T09:50:27.289616Z",
     "shell.execute_reply": "2024-09-06T09:50:27.288519Z"
    },
    "papermill": {
     "duration": 0.021608,
     "end_time": "2024-09-06T09:50:27.291912",
     "exception": false,
     "start_time": "2024-09-06T09:50:27.270304",
     "status": "completed"
    },
    "tags": []
   },
   "outputs": [],
   "source": [
    "scaled_df['Cluster_ID1'] = model.labels_"
   ]
  },
  {
   "cell_type": "code",
   "execution_count": 20,
   "id": "b5a821c2",
   "metadata": {
    "execution": {
     "iopub.execute_input": "2024-09-06T09:50:27.317714Z",
     "iopub.status.busy": "2024-09-06T09:50:27.316542Z",
     "iopub.status.idle": "2024-09-06T09:50:27.331410Z",
     "shell.execute_reply": "2024-09-06T09:50:27.330403Z"
    },
    "papermill": {
     "duration": 0.029841,
     "end_time": "2024-09-06T09:50:27.333463",
     "exception": false,
     "start_time": "2024-09-06T09:50:27.303622",
     "status": "completed"
    },
    "tags": []
   },
   "outputs": [
    {
     "data": {
      "text/html": [
       "<div>\n",
       "<style scoped>\n",
       "    .dataframe tbody tr th:only-of-type {\n",
       "        vertical-align: middle;\n",
       "    }\n",
       "\n",
       "    .dataframe tbody tr th {\n",
       "        vertical-align: top;\n",
       "    }\n",
       "\n",
       "    .dataframe thead th {\n",
       "        text-align: right;\n",
       "    }\n",
       "</style>\n",
       "<table border=\"1\" class=\"dataframe\">\n",
       "  <thead>\n",
       "    <tr style=\"text-align: right;\">\n",
       "      <th></th>\n",
       "      <th>Cost/Price</th>\n",
       "      <th>Srvice_Cooperation</th>\n",
       "      <th>Conforming_Service</th>\n",
       "      <th>Flexibility</th>\n",
       "      <th>After_sale_service</th>\n",
       "      <th>Complaint_Management</th>\n",
       "      <th>Waiting_Time</th>\n",
       "      <th>Cluster_ID1</th>\n",
       "    </tr>\n",
       "  </thead>\n",
       "  <tbody>\n",
       "    <tr>\n",
       "      <th>0</th>\n",
       "      <td>-0.621546</td>\n",
       "      <td>0.835446</td>\n",
       "      <td>1.822410</td>\n",
       "      <td>-4.458097</td>\n",
       "      <td>-0.498974</td>\n",
       "      <td>-0.603072</td>\n",
       "      <td>1.703709</td>\n",
       "      <td>2</td>\n",
       "    </tr>\n",
       "    <tr>\n",
       "      <th>1</th>\n",
       "      <td>-0.684890</td>\n",
       "      <td>-1.218359</td>\n",
       "      <td>0.645697</td>\n",
       "      <td>0.708807</td>\n",
       "      <td>0.715024</td>\n",
       "      <td>0.696700</td>\n",
       "      <td>0.297851</td>\n",
       "      <td>0</td>\n",
       "    </tr>\n",
       "    <tr>\n",
       "      <th>2</th>\n",
       "      <td>2.813199</td>\n",
       "      <td>-1.218359</td>\n",
       "      <td>0.645697</td>\n",
       "      <td>0.708807</td>\n",
       "      <td>0.715024</td>\n",
       "      <td>0.696700</td>\n",
       "      <td>-1.108007</td>\n",
       "      <td>0</td>\n",
       "    </tr>\n",
       "    <tr>\n",
       "      <th>3</th>\n",
       "      <td>-0.412491</td>\n",
       "      <td>0.835446</td>\n",
       "      <td>-0.531017</td>\n",
       "      <td>-1.874645</td>\n",
       "      <td>0.715024</td>\n",
       "      <td>0.696700</td>\n",
       "      <td>-1.108007</td>\n",
       "      <td>2</td>\n",
       "    </tr>\n",
       "    <tr>\n",
       "      <th>4</th>\n",
       "      <td>-0.597788</td>\n",
       "      <td>-1.218359</td>\n",
       "      <td>-0.531017</td>\n",
       "      <td>2.000534</td>\n",
       "      <td>-0.498974</td>\n",
       "      <td>-0.603072</td>\n",
       "      <td>0.297851</td>\n",
       "      <td>2</td>\n",
       "    </tr>\n",
       "  </tbody>\n",
       "</table>\n",
       "</div>"
      ],
      "text/plain": [
       "   Cost/Price  Srvice_Cooperation  Conforming_Service  Flexibility  \\\n",
       "0   -0.621546            0.835446            1.822410    -4.458097   \n",
       "1   -0.684890           -1.218359            0.645697     0.708807   \n",
       "2    2.813199           -1.218359            0.645697     0.708807   \n",
       "3   -0.412491            0.835446           -0.531017    -1.874645   \n",
       "4   -0.597788           -1.218359           -0.531017     2.000534   \n",
       "\n",
       "   After_sale_service  Complaint_Management  Waiting_Time  Cluster_ID1  \n",
       "0           -0.498974             -0.603072      1.703709            2  \n",
       "1            0.715024              0.696700      0.297851            0  \n",
       "2            0.715024              0.696700     -1.108007            0  \n",
       "3            0.715024              0.696700     -1.108007            2  \n",
       "4           -0.498974             -0.603072      0.297851            2  "
      ]
     },
     "execution_count": 20,
     "metadata": {},
     "output_type": "execute_result"
    }
   ],
   "source": [
    "scaled_df.head()"
   ]
  },
  {
   "cell_type": "code",
   "execution_count": 21,
   "id": "07208ba5",
   "metadata": {
    "execution": {
     "iopub.execute_input": "2024-09-06T09:50:27.359142Z",
     "iopub.status.busy": "2024-09-06T09:50:27.358460Z",
     "iopub.status.idle": "2024-09-06T09:50:27.549690Z",
     "shell.execute_reply": "2024-09-06T09:50:27.548675Z"
    },
    "papermill": {
     "duration": 0.206818,
     "end_time": "2024-09-06T09:50:27.552270",
     "exception": false,
     "start_time": "2024-09-06T09:50:27.345452",
     "status": "completed"
    },
    "tags": []
   },
   "outputs": [],
   "source": [
    "scaled_df.to_excel('Suppliers_clusteredk3.xlsx', index = False)"
   ]
  },
  {
   "cell_type": "code",
   "execution_count": 22,
   "id": "c3b51978",
   "metadata": {
    "execution": {
     "iopub.execute_input": "2024-09-06T09:50:27.578038Z",
     "iopub.status.busy": "2024-09-06T09:50:27.577068Z",
     "iopub.status.idle": "2024-09-06T09:50:27.585221Z",
     "shell.execute_reply": "2024-09-06T09:50:27.584134Z"
    },
    "papermill": {
     "duration": 0.023292,
     "end_time": "2024-09-06T09:50:27.587380",
     "exception": false,
     "start_time": "2024-09-06T09:50:27.564088",
     "status": "completed"
    },
    "tags": []
   },
   "outputs": [
    {
     "data": {
      "text/plain": [
       "array([[ 0.17985903,  0.17048466,  0.64569659,  0.50234295,  0.71004858,\n",
       "         0.74996946,  0.29208959],\n",
       "       [-0.07441589, -1.05621649, -1.87288312, -1.17212724, -1.5425855 ,\n",
       "        -1.67481467, -1.00935015],\n",
       "       [-0.23183566,  0.1088075 , -0.29705046, -0.32608436, -0.49897357,\n",
       "        -0.51186031, -0.08033276]])"
      ]
     },
     "execution_count": 22,
     "metadata": {},
     "output_type": "execute_result"
    }
   ],
   "source": [
    "centroidk3"
   ]
  },
  {
   "cell_type": "code",
   "execution_count": 23,
   "id": "0c5f9f02",
   "metadata": {
    "execution": {
     "iopub.execute_input": "2024-09-06T09:50:27.613782Z",
     "iopub.status.busy": "2024-09-06T09:50:27.612908Z",
     "iopub.status.idle": "2024-09-06T09:50:27.618485Z",
     "shell.execute_reply": "2024-09-06T09:50:27.617407Z"
    },
    "papermill": {
     "duration": 0.02121,
     "end_time": "2024-09-06T09:50:27.620755",
     "exception": false,
     "start_time": "2024-09-06T09:50:27.599545",
     "status": "completed"
    },
    "tags": []
   },
   "outputs": [],
   "source": [
    "col_names = selected_columns_df.columns.tolist()\n",
    "cluster_profile = pd.DataFrame(centroidk3,columns= col_names)"
   ]
  },
  {
   "cell_type": "code",
   "execution_count": 24,
   "id": "0acdcc6c",
   "metadata": {
    "execution": {
     "iopub.execute_input": "2024-09-06T09:50:27.646479Z",
     "iopub.status.busy": "2024-09-06T09:50:27.646051Z",
     "iopub.status.idle": "2024-09-06T09:50:27.659423Z",
     "shell.execute_reply": "2024-09-06T09:50:27.658434Z"
    },
    "papermill": {
     "duration": 0.028787,
     "end_time": "2024-09-06T09:50:27.661637",
     "exception": false,
     "start_time": "2024-09-06T09:50:27.632850",
     "status": "completed"
    },
    "tags": []
   },
   "outputs": [
    {
     "data": {
      "text/html": [
       "<div>\n",
       "<style scoped>\n",
       "    .dataframe tbody tr th:only-of-type {\n",
       "        vertical-align: middle;\n",
       "    }\n",
       "\n",
       "    .dataframe tbody tr th {\n",
       "        vertical-align: top;\n",
       "    }\n",
       "\n",
       "    .dataframe thead th {\n",
       "        text-align: right;\n",
       "    }\n",
       "</style>\n",
       "<table border=\"1\" class=\"dataframe\">\n",
       "  <thead>\n",
       "    <tr style=\"text-align: right;\">\n",
       "      <th></th>\n",
       "      <th>Cost/Price</th>\n",
       "      <th>Srvice_Cooperation</th>\n",
       "      <th>Conforming_Service</th>\n",
       "      <th>Flexibility</th>\n",
       "      <th>After_sale_service</th>\n",
       "      <th>Complaint_Management</th>\n",
       "      <th>Waiting_Time</th>\n",
       "    </tr>\n",
       "  </thead>\n",
       "  <tbody>\n",
       "    <tr>\n",
       "      <th>0</th>\n",
       "      <td>0.179859</td>\n",
       "      <td>0.170485</td>\n",
       "      <td>0.645697</td>\n",
       "      <td>0.502343</td>\n",
       "      <td>0.710049</td>\n",
       "      <td>0.749969</td>\n",
       "      <td>0.292090</td>\n",
       "    </tr>\n",
       "    <tr>\n",
       "      <th>1</th>\n",
       "      <td>-0.074416</td>\n",
       "      <td>-1.056216</td>\n",
       "      <td>-1.872883</td>\n",
       "      <td>-1.172127</td>\n",
       "      <td>-1.542586</td>\n",
       "      <td>-1.674815</td>\n",
       "      <td>-1.009350</td>\n",
       "    </tr>\n",
       "    <tr>\n",
       "      <th>2</th>\n",
       "      <td>-0.231836</td>\n",
       "      <td>0.108808</td>\n",
       "      <td>-0.297050</td>\n",
       "      <td>-0.326084</td>\n",
       "      <td>-0.498974</td>\n",
       "      <td>-0.511860</td>\n",
       "      <td>-0.080333</td>\n",
       "    </tr>\n",
       "  </tbody>\n",
       "</table>\n",
       "</div>"
      ],
      "text/plain": [
       "   Cost/Price  Srvice_Cooperation  Conforming_Service  Flexibility  \\\n",
       "0    0.179859            0.170485            0.645697     0.502343   \n",
       "1   -0.074416           -1.056216           -1.872883    -1.172127   \n",
       "2   -0.231836            0.108808           -0.297050    -0.326084   \n",
       "\n",
       "   After_sale_service  Complaint_Management  Waiting_Time  \n",
       "0            0.710049              0.749969      0.292090  \n",
       "1           -1.542586             -1.674815     -1.009350  \n",
       "2           -0.498974             -0.511860     -0.080333  "
      ]
     },
     "execution_count": 24,
     "metadata": {},
     "output_type": "execute_result"
    }
   ],
   "source": [
    "cluster_profile"
   ]
  },
  {
   "cell_type": "code",
   "execution_count": 25,
   "id": "bab96282",
   "metadata": {
    "execution": {
     "iopub.execute_input": "2024-09-06T09:50:27.688492Z",
     "iopub.status.busy": "2024-09-06T09:50:27.688041Z",
     "iopub.status.idle": "2024-09-06T09:50:27.704199Z",
     "shell.execute_reply": "2024-09-06T09:50:27.703126Z"
    },
    "papermill": {
     "duration": 0.032395,
     "end_time": "2024-09-06T09:50:27.706869",
     "exception": false,
     "start_time": "2024-09-06T09:50:27.674474",
     "status": "completed"
    },
    "tags": []
   },
   "outputs": [],
   "source": [
    "cluster_profile.to_excel('cluster_profilek3.xlsx', index = False)"
   ]
  },
  {
   "cell_type": "markdown",
   "id": "770d60ed",
   "metadata": {
    "execution": {
     "iopub.execute_input": "2024-09-06T09:37:50.440753Z",
     "iopub.status.busy": "2024-09-06T09:37:50.440235Z",
     "iopub.status.idle": "2024-09-06T09:37:50.450024Z",
     "shell.execute_reply": "2024-09-06T09:37:50.448107Z",
     "shell.execute_reply.started": "2024-09-06T09:37:50.440708Z"
    },
    "papermill": {
     "duration": 0.011729,
     "end_time": "2024-09-06T09:50:27.730867",
     "exception": false,
     "start_time": "2024-09-06T09:50:27.719138",
     "status": "completed"
    },
    "tags": []
   },
   "source": [
    "Now we would do the same for K = 4 i.e with 4 clusters"
   ]
  },
  {
   "cell_type": "code",
   "execution_count": 26,
   "id": "46fdc9c1",
   "metadata": {
    "execution": {
     "iopub.execute_input": "2024-09-06T09:50:27.757013Z",
     "iopub.status.busy": "2024-09-06T09:50:27.756536Z",
     "iopub.status.idle": "2024-09-06T09:50:27.785180Z",
     "shell.execute_reply": "2024-09-06T09:50:27.784159Z"
    },
    "papermill": {
     "duration": 0.044512,
     "end_time": "2024-09-06T09:50:27.787489",
     "exception": false,
     "start_time": "2024-09-06T09:50:27.742977",
     "status": "completed"
    },
    "tags": []
   },
   "outputs": [
    {
     "data": {
      "text/html": [
       "<style>#sk-container-id-2 {color: black;background-color: white;}#sk-container-id-2 pre{padding: 0;}#sk-container-id-2 div.sk-toggleable {background-color: white;}#sk-container-id-2 label.sk-toggleable__label {cursor: pointer;display: block;width: 100%;margin-bottom: 0;padding: 0.3em;box-sizing: border-box;text-align: center;}#sk-container-id-2 label.sk-toggleable__label-arrow:before {content: \"▸\";float: left;margin-right: 0.25em;color: #696969;}#sk-container-id-2 label.sk-toggleable__label-arrow:hover:before {color: black;}#sk-container-id-2 div.sk-estimator:hover label.sk-toggleable__label-arrow:before {color: black;}#sk-container-id-2 div.sk-toggleable__content {max-height: 0;max-width: 0;overflow: hidden;text-align: left;background-color: #f0f8ff;}#sk-container-id-2 div.sk-toggleable__content pre {margin: 0.2em;color: black;border-radius: 0.25em;background-color: #f0f8ff;}#sk-container-id-2 input.sk-toggleable__control:checked~div.sk-toggleable__content {max-height: 200px;max-width: 100%;overflow: auto;}#sk-container-id-2 input.sk-toggleable__control:checked~label.sk-toggleable__label-arrow:before {content: \"▾\";}#sk-container-id-2 div.sk-estimator input.sk-toggleable__control:checked~label.sk-toggleable__label {background-color: #d4ebff;}#sk-container-id-2 div.sk-label input.sk-toggleable__control:checked~label.sk-toggleable__label {background-color: #d4ebff;}#sk-container-id-2 input.sk-hidden--visually {border: 0;clip: rect(1px 1px 1px 1px);clip: rect(1px, 1px, 1px, 1px);height: 1px;margin: -1px;overflow: hidden;padding: 0;position: absolute;width: 1px;}#sk-container-id-2 div.sk-estimator {font-family: monospace;background-color: #f0f8ff;border: 1px dotted black;border-radius: 0.25em;box-sizing: border-box;margin-bottom: 0.5em;}#sk-container-id-2 div.sk-estimator:hover {background-color: #d4ebff;}#sk-container-id-2 div.sk-parallel-item::after {content: \"\";width: 100%;border-bottom: 1px solid gray;flex-grow: 1;}#sk-container-id-2 div.sk-label:hover label.sk-toggleable__label {background-color: #d4ebff;}#sk-container-id-2 div.sk-serial::before {content: \"\";position: absolute;border-left: 1px solid gray;box-sizing: border-box;top: 0;bottom: 0;left: 50%;z-index: 0;}#sk-container-id-2 div.sk-serial {display: flex;flex-direction: column;align-items: center;background-color: white;padding-right: 0.2em;padding-left: 0.2em;position: relative;}#sk-container-id-2 div.sk-item {position: relative;z-index: 1;}#sk-container-id-2 div.sk-parallel {display: flex;align-items: stretch;justify-content: center;background-color: white;position: relative;}#sk-container-id-2 div.sk-item::before, #sk-container-id-2 div.sk-parallel-item::before {content: \"\";position: absolute;border-left: 1px solid gray;box-sizing: border-box;top: 0;bottom: 0;left: 50%;z-index: -1;}#sk-container-id-2 div.sk-parallel-item {display: flex;flex-direction: column;z-index: 1;position: relative;background-color: white;}#sk-container-id-2 div.sk-parallel-item:first-child::after {align-self: flex-end;width: 50%;}#sk-container-id-2 div.sk-parallel-item:last-child::after {align-self: flex-start;width: 50%;}#sk-container-id-2 div.sk-parallel-item:only-child::after {width: 0;}#sk-container-id-2 div.sk-dashed-wrapped {border: 1px dashed gray;margin: 0 0.4em 0.5em 0.4em;box-sizing: border-box;padding-bottom: 0.4em;background-color: white;}#sk-container-id-2 div.sk-label label {font-family: monospace;font-weight: bold;display: inline-block;line-height: 1.2em;}#sk-container-id-2 div.sk-label-container {text-align: center;}#sk-container-id-2 div.sk-container {/* jupyter's `normalize.less` sets `[hidden] { display: none; }` but bootstrap.min.css set `[hidden] { display: none !important; }` so we also need the `!important` here to be able to override the default hidden behavior on the sphinx rendered scikit-learn.org. See: https://github.com/scikit-learn/scikit-learn/issues/21755 */display: inline-block !important;position: relative;}#sk-container-id-2 div.sk-text-repr-fallback {display: none;}</style><div id=\"sk-container-id-2\" class=\"sk-top-container\"><div class=\"sk-text-repr-fallback\"><pre>KMeans(n_clusters=4, random_state=42)</pre><b>In a Jupyter environment, please rerun this cell to show the HTML representation or trust the notebook. <br />On GitHub, the HTML representation is unable to render, please try loading this page with nbviewer.org.</b></div><div class=\"sk-container\" hidden><div class=\"sk-item\"><div class=\"sk-estimator sk-toggleable\"><input class=\"sk-toggleable__control sk-hidden--visually\" id=\"sk-estimator-id-2\" type=\"checkbox\" checked><label for=\"sk-estimator-id-2\" class=\"sk-toggleable__label sk-toggleable__label-arrow\">KMeans</label><div class=\"sk-toggleable__content\"><pre>KMeans(n_clusters=4, random_state=42)</pre></div></div></div></div></div>"
      ],
      "text/plain": [
       "KMeans(n_clusters=4, random_state=42)"
      ]
     },
     "execution_count": 26,
     "metadata": {},
     "output_type": "execute_result"
    }
   ],
   "source": [
    "k = 4\n",
    "model2 = KMeans(n_clusters=k,random_state=42)\n",
    "model2.fit(scaled_df.drop('Cluster_ID1', axis = 1))"
   ]
  },
  {
   "cell_type": "code",
   "execution_count": 27,
   "id": "c26a73ad",
   "metadata": {
    "execution": {
     "iopub.execute_input": "2024-09-06T09:50:27.814121Z",
     "iopub.status.busy": "2024-09-06T09:50:27.813447Z",
     "iopub.status.idle": "2024-09-06T09:50:27.818362Z",
     "shell.execute_reply": "2024-09-06T09:50:27.817289Z"
    },
    "papermill": {
     "duration": 0.020362,
     "end_time": "2024-09-06T09:50:27.820428",
     "exception": false,
     "start_time": "2024-09-06T09:50:27.800066",
     "status": "completed"
    },
    "tags": []
   },
   "outputs": [],
   "source": [
    "centroidk4 = model2.cluster_centers_"
   ]
  },
  {
   "cell_type": "code",
   "execution_count": 28,
   "id": "02421a58",
   "metadata": {
    "execution": {
     "iopub.execute_input": "2024-09-06T09:50:27.847366Z",
     "iopub.status.busy": "2024-09-06T09:50:27.846932Z",
     "iopub.status.idle": "2024-09-06T09:50:27.852711Z",
     "shell.execute_reply": "2024-09-06T09:50:27.851645Z"
    },
    "papermill": {
     "duration": 0.022387,
     "end_time": "2024-09-06T09:50:27.855147",
     "exception": false,
     "start_time": "2024-09-06T09:50:27.832760",
     "status": "completed"
    },
    "tags": []
   },
   "outputs": [],
   "source": [
    "scaled_df['Cluster_ID2'] = model2.labels_"
   ]
  },
  {
   "cell_type": "code",
   "execution_count": 29,
   "id": "e0abb3bc",
   "metadata": {
    "execution": {
     "iopub.execute_input": "2024-09-06T09:50:27.881518Z",
     "iopub.status.busy": "2024-09-06T09:50:27.881108Z",
     "iopub.status.idle": "2024-09-06T09:50:27.896008Z",
     "shell.execute_reply": "2024-09-06T09:50:27.894947Z"
    },
    "papermill": {
     "duration": 0.030623,
     "end_time": "2024-09-06T09:50:27.898174",
     "exception": false,
     "start_time": "2024-09-06T09:50:27.867551",
     "status": "completed"
    },
    "tags": []
   },
   "outputs": [
    {
     "data": {
      "text/html": [
       "<div>\n",
       "<style scoped>\n",
       "    .dataframe tbody tr th:only-of-type {\n",
       "        vertical-align: middle;\n",
       "    }\n",
       "\n",
       "    .dataframe tbody tr th {\n",
       "        vertical-align: top;\n",
       "    }\n",
       "\n",
       "    .dataframe thead th {\n",
       "        text-align: right;\n",
       "    }\n",
       "</style>\n",
       "<table border=\"1\" class=\"dataframe\">\n",
       "  <thead>\n",
       "    <tr style=\"text-align: right;\">\n",
       "      <th></th>\n",
       "      <th>Cost/Price</th>\n",
       "      <th>Srvice_Cooperation</th>\n",
       "      <th>Conforming_Service</th>\n",
       "      <th>Flexibility</th>\n",
       "      <th>After_sale_service</th>\n",
       "      <th>Complaint_Management</th>\n",
       "      <th>Waiting_Time</th>\n",
       "      <th>Cluster_ID1</th>\n",
       "      <th>Cluster_ID2</th>\n",
       "    </tr>\n",
       "  </thead>\n",
       "  <tbody>\n",
       "    <tr>\n",
       "      <th>0</th>\n",
       "      <td>-0.621546</td>\n",
       "      <td>0.835446</td>\n",
       "      <td>1.822410</td>\n",
       "      <td>-4.458097</td>\n",
       "      <td>-0.498974</td>\n",
       "      <td>-0.603072</td>\n",
       "      <td>1.703709</td>\n",
       "      <td>2</td>\n",
       "      <td>3</td>\n",
       "    </tr>\n",
       "    <tr>\n",
       "      <th>1</th>\n",
       "      <td>-0.684890</td>\n",
       "      <td>-1.218359</td>\n",
       "      <td>0.645697</td>\n",
       "      <td>0.708807</td>\n",
       "      <td>0.715024</td>\n",
       "      <td>0.696700</td>\n",
       "      <td>0.297851</td>\n",
       "      <td>0</td>\n",
       "      <td>0</td>\n",
       "    </tr>\n",
       "    <tr>\n",
       "      <th>2</th>\n",
       "      <td>2.813199</td>\n",
       "      <td>-1.218359</td>\n",
       "      <td>0.645697</td>\n",
       "      <td>0.708807</td>\n",
       "      <td>0.715024</td>\n",
       "      <td>0.696700</td>\n",
       "      <td>-1.108007</td>\n",
       "      <td>0</td>\n",
       "      <td>2</td>\n",
       "    </tr>\n",
       "    <tr>\n",
       "      <th>3</th>\n",
       "      <td>-0.412491</td>\n",
       "      <td>0.835446</td>\n",
       "      <td>-0.531017</td>\n",
       "      <td>-1.874645</td>\n",
       "      <td>0.715024</td>\n",
       "      <td>0.696700</td>\n",
       "      <td>-1.108007</td>\n",
       "      <td>2</td>\n",
       "      <td>3</td>\n",
       "    </tr>\n",
       "    <tr>\n",
       "      <th>4</th>\n",
       "      <td>-0.597788</td>\n",
       "      <td>-1.218359</td>\n",
       "      <td>-0.531017</td>\n",
       "      <td>2.000534</td>\n",
       "      <td>-0.498974</td>\n",
       "      <td>-0.603072</td>\n",
       "      <td>0.297851</td>\n",
       "      <td>2</td>\n",
       "      <td>3</td>\n",
       "    </tr>\n",
       "  </tbody>\n",
       "</table>\n",
       "</div>"
      ],
      "text/plain": [
       "   Cost/Price  Srvice_Cooperation  Conforming_Service  Flexibility  \\\n",
       "0   -0.621546            0.835446            1.822410    -4.458097   \n",
       "1   -0.684890           -1.218359            0.645697     0.708807   \n",
       "2    2.813199           -1.218359            0.645697     0.708807   \n",
       "3   -0.412491            0.835446           -0.531017    -1.874645   \n",
       "4   -0.597788           -1.218359           -0.531017     2.000534   \n",
       "\n",
       "   After_sale_service  Complaint_Management  Waiting_Time  Cluster_ID1  \\\n",
       "0           -0.498974             -0.603072      1.703709            2   \n",
       "1            0.715024              0.696700      0.297851            0   \n",
       "2            0.715024              0.696700     -1.108007            0   \n",
       "3            0.715024              0.696700     -1.108007            2   \n",
       "4           -0.498974             -0.603072      0.297851            2   \n",
       "\n",
       "   Cluster_ID2  \n",
       "0            3  \n",
       "1            0  \n",
       "2            2  \n",
       "3            3  \n",
       "4            3  "
      ]
     },
     "execution_count": 29,
     "metadata": {},
     "output_type": "execute_result"
    }
   ],
   "source": [
    "scaled_df.head()"
   ]
  },
  {
   "cell_type": "code",
   "execution_count": 30,
   "id": "dffd6fb1",
   "metadata": {
    "execution": {
     "iopub.execute_input": "2024-09-06T09:50:27.925397Z",
     "iopub.status.busy": "2024-09-06T09:50:27.924519Z",
     "iopub.status.idle": "2024-09-06T09:50:28.021023Z",
     "shell.execute_reply": "2024-09-06T09:50:28.019662Z"
    },
    "papermill": {
     "duration": 0.112862,
     "end_time": "2024-09-06T09:50:28.023503",
     "exception": false,
     "start_time": "2024-09-06T09:50:27.910641",
     "status": "completed"
    },
    "tags": []
   },
   "outputs": [],
   "source": [
    "scaled_df.to_excel('Suppliers_clusteredk4.xlsx', index = False)"
   ]
  },
  {
   "cell_type": "code",
   "execution_count": 31,
   "id": "fde313c4",
   "metadata": {
    "execution": {
     "iopub.execute_input": "2024-09-06T09:50:28.050582Z",
     "iopub.status.busy": "2024-09-06T09:50:28.050130Z",
     "iopub.status.idle": "2024-09-06T09:50:28.057516Z",
     "shell.execute_reply": "2024-09-06T09:50:28.056390Z"
    },
    "papermill": {
     "duration": 0.023532,
     "end_time": "2024-09-06T09:50:28.059704",
     "exception": false,
     "start_time": "2024-09-06T09:50:28.036172",
     "status": "completed"
    },
    "tags": []
   },
   "outputs": [
    {
     "data": {
      "text/plain": [
       "array([[-0.20322248,  0.17428971,  0.6242041 ,  0.46697736,  0.72056735,\n",
       "         0.73824534,  0.28501242],\n",
       "       [-0.20865163, -0.81652756, -2.01469908, -1.14453889, -1.50184111,\n",
       "        -1.81807716, -1.59700101],\n",
       "       [ 2.79701618,  0.14159307,  0.55028739,  0.35969219,  0.45253802,\n",
       "         0.48592618,  0.22185897],\n",
       "       [-0.2905053 , -0.03440072, -0.37873632, -0.37016391, -0.62037333,\n",
       "        -0.56484381,  0.01667967]])"
      ]
     },
     "execution_count": 31,
     "metadata": {},
     "output_type": "execute_result"
    }
   ],
   "source": [
    "centroidk4"
   ]
  },
  {
   "cell_type": "code",
   "execution_count": 32,
   "id": "6435b2d0",
   "metadata": {
    "execution": {
     "iopub.execute_input": "2024-09-06T09:50:28.087205Z",
     "iopub.status.busy": "2024-09-06T09:50:28.086758Z",
     "iopub.status.idle": "2024-09-06T09:50:28.092328Z",
     "shell.execute_reply": "2024-09-06T09:50:28.091372Z"
    },
    "papermill": {
     "duration": 0.021673,
     "end_time": "2024-09-06T09:50:28.094401",
     "exception": false,
     "start_time": "2024-09-06T09:50:28.072728",
     "status": "completed"
    },
    "tags": []
   },
   "outputs": [],
   "source": [
    "col_names = selected_columns_df.columns.tolist()\n",
    "cluster_profile2 = pd.DataFrame(centroidk4,columns= col_names)"
   ]
  },
  {
   "cell_type": "code",
   "execution_count": 33,
   "id": "ca3beaf4",
   "metadata": {
    "execution": {
     "iopub.execute_input": "2024-09-06T09:50:28.121422Z",
     "iopub.status.busy": "2024-09-06T09:50:28.121007Z",
     "iopub.status.idle": "2024-09-06T09:50:28.137850Z",
     "shell.execute_reply": "2024-09-06T09:50:28.136849Z"
    },
    "papermill": {
     "duration": 0.033243,
     "end_time": "2024-09-06T09:50:28.140352",
     "exception": false,
     "start_time": "2024-09-06T09:50:28.107109",
     "status": "completed"
    },
    "tags": []
   },
   "outputs": [],
   "source": [
    "cluster_profile2.to_excel('cluster_profilek4.xlsx', index = False)"
   ]
  },
  {
   "cell_type": "code",
   "execution_count": null,
   "id": "a7f01d78",
   "metadata": {
    "papermill": {
     "duration": 0.012379,
     "end_time": "2024-09-06T09:50:28.165694",
     "exception": false,
     "start_time": "2024-09-06T09:50:28.153315",
     "status": "completed"
    },
    "tags": []
   },
   "outputs": [],
   "source": []
  }
 ],
 "metadata": {
  "kaggle": {
   "accelerator": "none",
   "dataSources": [
    {
     "datasetId": 5654295,
     "sourceId": 9331883,
     "sourceType": "datasetVersion"
    }
   ],
   "dockerImageVersionId": 30761,
   "isGpuEnabled": false,
   "isInternetEnabled": true,
   "language": "python",
   "sourceType": "notebook"
  },
  "kernelspec": {
   "display_name": "Python 3",
   "language": "python",
   "name": "python3"
  },
  "language_info": {
   "codemirror_mode": {
    "name": "ipython",
    "version": 3
   },
   "file_extension": ".py",
   "mimetype": "text/x-python",
   "name": "python",
   "nbconvert_exporter": "python",
   "pygments_lexer": "ipython3",
   "version": "3.10.14"
  },
  "papermill": {
   "default_parameters": {},
   "duration": 9.7229,
   "end_time": "2024-09-06T09:50:28.900727",
   "environment_variables": {},
   "exception": null,
   "input_path": "__notebook__.ipynb",
   "output_path": "__notebook__.ipynb",
   "parameters": {},
   "start_time": "2024-09-06T09:50:19.177827",
   "version": "2.6.0"
  }
 },
 "nbformat": 4,
 "nbformat_minor": 5
}
